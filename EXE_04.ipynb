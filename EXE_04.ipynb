{
  "nbformat": 4,
  "nbformat_minor": 0,
  "metadata": {
    "colab": {
      "provenance": [],
      "authorship_tag": "ABX9TyNvBlDScfp0XVO60aQ0thVm",
      "include_colab_link": true
    },
    "kernelspec": {
      "name": "python3",
      "display_name": "Python 3"
    },
    "language_info": {
      "name": "python"
    }
  },
  "cells": [
    {
      "cell_type": "markdown",
      "metadata": {
        "id": "view-in-github",
        "colab_type": "text"
      },
      "source": [
        "<a href=\"https://colab.research.google.com/github/Song-juni/BP_10_Ch4/blob/main/EXE_04.ipynb\" target=\"_parent\"><img src=\"https://colab.research.google.com/assets/colab-badge.svg\" alt=\"Open In Colab\"/></a>"
      ]
    },
    {
      "cell_type": "markdown",
      "source": [
        "#4-1"
      ],
      "metadata": {
        "id": "bNLbBgVJcbh_"
      }
    },
    {
      "cell_type": "code",
      "source": [
        "print(\"나는\" +str(12)+ \"개의 사과를 먹었다.\")       #문자열과 정수는 합칠수 없습니다."
      ],
      "metadata": {
        "colab": {
          "base_uri": "https://localhost:8080/"
        },
        "id": "TN1IeuXpc_uP",
        "outputId": "cb4b5b31-cd8f-48cb-ff25-244edf19ef4c"
      },
      "execution_count": 3,
      "outputs": [
        {
          "output_type": "stream",
          "name": "stdout",
          "text": [
            "나는12개의 사과를 먹었다.\n"
          ]
        }
      ]
    },
    {
      "cell_type": "markdown",
      "source": [
        "#4-2"
      ],
      "metadata": {
        "id": "5YP2EKMIduQq"
      }
    },
    {
      "cell_type": "code",
      "source": [
        "print(\"apple\" + \"grape\")\n",
        "print(\"apple\" * 3)"
      ],
      "metadata": {
        "colab": {
          "base_uri": "https://localhost:8080/"
        },
        "id": "64mK5HyWdwAG",
        "outputId": "f2fdb027-9163-4f84-a30a-af55ee54a279"
      },
      "execution_count": 7,
      "outputs": [
        {
          "output_type": "stream",
          "name": "stdout",
          "text": [
            "applegrape\n",
            "appleappleapple\n"
          ]
        }
      ]
    },
    {
      "cell_type": "markdown",
      "source": [
        "#4-3"
      ],
      "metadata": {
        "id": "9pVK3qRmd_5y"
      }
    },
    {
      "cell_type": "code",
      "source": [
        "x = input(\"문자열을 입력하시오.: \")\n",
        "print(x[0:2] + x[4:])"
      ],
      "metadata": {
        "colab": {
          "base_uri": "https://localhost:8080/"
        },
        "id": "rfRg9Z74eBXD",
        "outputId": "eb87a307-c9d3-4176-b8f1-89cad61b2d0e"
      },
      "execution_count": 2,
      "outputs": [
        {
          "output_type": "stream",
          "name": "stdout",
          "text": [
            "문자열을 입력하시오.: python\n",
            "pyon\n"
          ]
        }
      ]
    },
    {
      "cell_type": "markdown",
      "source": [
        "#4-4"
      ],
      "metadata": {
        "id": "VZ-kFdZ_2t5a"
      }
    },
    {
      "cell_type": "code",
      "source": [
        "x = input(\"문자열을 입력하시오.: \")\n",
        "print(x + \"하는 중\")"
      ],
      "metadata": {
        "colab": {
          "base_uri": "https://localhost:8080/"
        },
        "id": "-9qio0ZS2vBA",
        "outputId": "dc6ac6b6-392e-497f-89e7-f8ffe9b5af85"
      },
      "execution_count": 3,
      "outputs": [
        {
          "output_type": "stream",
          "name": "stdout",
          "text": [
            "문자열을 입력하시오.: 청소\n",
            "청소하는 중\n"
          ]
        }
      ]
    },
    {
      "cell_type": "markdown",
      "source": [
        "#4-5"
      ],
      "metadata": {
        "id": "IZ3qG-ma2_VI"
      }
    },
    {
      "cell_type": "code",
      "source": [
        "x = input(\"기호를 입력하시오.: \")\n",
        "y = input(\"중간에 삽입할 문자열을 입력하시오.: \")\n",
        "print(x[0] + y + x[1])"
      ],
      "metadata": {
        "colab": {
          "base_uri": "https://localhost:8080/"
        },
        "id": "IZOwtsx43Ag8",
        "outputId": "138002dc-29dd-45c9-900c-1c800aa7977c"
      },
      "execution_count": 4,
      "outputs": [
        {
          "output_type": "stream",
          "name": "stdout",
          "text": [
            "기호를 입력하시오.: []\n",
            "중간에 삽입할 문자열을 입력하시오.: python\n",
            "[python]\n"
          ]
        }
      ]
    },
    {
      "cell_type": "markdown",
      "source": [
        "#4-6"
      ],
      "metadata": {
        "id": "bz-xvyN33j6q"
      }
    },
    {
      "cell_type": "code",
      "source": [
        "list = [1, 2, 3, 4]\n",
        "sum = list[0] + list[1] + list[2] + list[3]\n",
        "print(\"리스트 = \", list)\n",
        "print(\"리스트 숫자의 합 = \", sum)"
      ],
      "metadata": {
        "colab": {
          "base_uri": "https://localhost:8080/"
        },
        "id": "Jws1MG9R3vXG",
        "outputId": "caad2f9a-0b91-43db-c0ce-1a537ea73bf0"
      },
      "execution_count": 5,
      "outputs": [
        {
          "output_type": "stream",
          "name": "stdout",
          "text": [
            "리스트 =  [1, 2, 3, 4]\n",
            "리스트 숫자의 합 =  10\n"
          ]
        }
      ]
    }
  ]
}